{
 "cells": [
  {
   "cell_type": "markdown",
   "metadata": {},
   "source": [
    "# **Generative Modeling with a Variational Autoencoder (VAE)**\n",
    "\n",
    "This notebook demonstrates how to build, train, and use a Variational Autoencoder (VAE) model from the Bonsai library to generate new images of handwritten digits.\n",
    "\n",
    "*This colab demonstrates the VAE implementation from the [Bonsai library](https://github.com/jax-ml/bonsai).*"
   ]
  },
  {
   "cell_type": "markdown",
   "metadata": {},
   "source": [
    "## **1. Setup and Imports**\n",
    "First, we'll install the necessary libraries and import our modules."
   ]
  },
  {
   "cell_type": "code",
   "execution_count": null,
   "metadata": {},
   "outputs": [],
   "source": [
    "!pip install -q git+https://github.com/jax-ml/bonsai@main\n",
    "!pip install -q optax tensorflow-datasets matplotlib\n",
    "!pip install tensorflow -q\n",
    "!pip install --upgrade flax -q"
   ]
  },
  {
   "cell_type": "code",
   "execution_count": 2,
   "metadata": {},
   "outputs": [],
   "source": [
    "import jax\n",
    "import jax.numpy as jnp\n",
    "import matplotlib.pyplot as plt\n",
    "import optax\n",
    "import tensorflow_datasets as tfds\n",
    "from flax import nnx\n",
    "import tensorflow as tf\n",
    "import os\n",
    "os.chdir(\"/home/neo/Downloads/CODE_Other_Models/bonsai/bonsai/models/vae\")\n",
    "sys.path.append('/home/neo/Downloads/CODE_Other_Models/bonsai')\n",
    "\n",
    "\n",
    "import sys\n",
    "from pathlib import Path\n",
    "\n",
    "# Add the bonsai root to Python path for imports\n",
    "bonsai_root = Path.home()\n",
    "sys.path.insert(0, str(bonsai_root))\n",
    "\n",
    "# Now you can import from the bonsai package without changing directories\n",
    "from bonsai.models.vae import modeling as vae_lib\n",
    "from bonsai.models.vae import params as params_lib"
   ]
  },
  {
   "cell_type": "markdown",
   "metadata": {},
   "source": [
    "## **2. Load and Preprocess Data**\n",
    "\n",
    "We'll use the classic MNIST dataset of handwritten digits. We need to normalize the pixel values to the `[0, 1]` range, which is important for the VAE's reconstruction loss."
   ]
  },
  {
   "cell_type": "code",
   "execution_count": 3,
   "metadata": {},
   "outputs": [
    {
     "name": "stdout",
     "output_type": "stream",
     "text": [
      "Loading 10 MNIST test images...\n"
     ]
    },
    {
     "name": "stderr",
     "output_type": "stream",
     "text": [
      "WARNING: All log messages before absl::InitializeLog() is called are written to STDERR\n",
      "I0000 00:00:1758719157.283911  161743 gpu_device.cc:2020] Created device /job:localhost/replica:0/task:0/device:GPU:0 with 4741 MB memory:  -> device: 0, name: NVIDIA GeForce RTX 2060, pci bus id: 0000:01:00.0, compute capability: 7.5\n",
      "2025-09-24 10:05:57.456527: W tensorflow/core/kernels/data/cache_dataset_ops.cc:917] The calling iterator did not fully read the dataset being cached. In order to avoid unexpected truncation of the dataset, the partially cached contents of the dataset  will be discarded. This can happen if you have an input pipeline similar to `dataset.cache().take(k).repeat()`. You should use `dataset.take(k).cache().repeat()` instead.\n"
     ]
    },
    {
     "name": "stdout",
     "output_type": "stream",
     "text": [
      "✅ Loaded a batch of 10 images with shape: (10, 28, 28, 1)\n"
     ]
    }
   ],
   "source": [
    "import jax\n",
    "import jax.numpy as jnp\n",
    "import matplotlib.pyplot as plt\n",
    "import tensorflow as tf\n",
    "import tensorflow_datasets as tfds\n",
    "from flax import nnx\n",
    "import orbax.checkpoint as ocp\n",
    "from pathlib import Path\n",
    "import sys\n",
    "\n",
    "bonsai_root = Path.home()\n",
    "if str(bonsai_root) not in sys.path:\n",
    "    sys.path.insert(0, str(bonsai_root))\n",
    "from bonsai.models.vae import modeling as vae_lib\n",
    "from bonsai.models.vae import params as params_lib\n",
    "\n",
    "\n",
    "# --- Load 10 images from the MNIST test set ---\n",
    "print(\"Loading 10 MNIST test images...\")\n",
    "ds = tfds.load('mnist', split='test', as_supervised=True)\n",
    "images_list = []\n",
    "labels_list = []\n",
    "\n",
    "for image, label in ds.take(10):\n",
    "    # Preprocess: convert to float32 and normalize\n",
    "    single_image = tf.cast(image, tf.float32) / 255.0\n",
    "    images_list.append(single_image.numpy())\n",
    "    labels_list.append(label.numpy())\n",
    "\n",
    "# Stack the images into a single batch\n",
    "image_batch = jnp.stack(images_list, axis=0)\n",
    "\n",
    "print(f\"✅ Loaded a batch of 10 images with shape: {image_batch.shape}\")"
   ]
  },
  {
   "cell_type": "markdown",
   "metadata": {},
   "source": [
    "## **3.Define Model**\n",
    "\n",
    "Here we'll configure and instantiate our VAE model."
   ]
  },
  {
   "cell_type": "code",
   "execution_count": 7,
   "metadata": {},
   "outputs": [
    {
     "name": "stdout",
     "output_type": "stream",
     "text": [
      "\n",
      "Creating a new model with random weights...\n",
      "New model created successfully!\n"
     ]
    }
   ],
   "source": [
    "# --- Create a randomly initialized model ---\n",
    "print(\"\\nCreating a new model with random weights...\")\n",
    "\n",
    "rngs = nnx.Rngs(params=0, sample=1)\n",
    "model = params_lib.create_model(cfg=config, rngs=rngs) # This is all you need!\n",
    "\n",
    "print(\"New model created successfully!\")"
   ]
  },
  {
   "cell_type": "markdown",
   "metadata": {},
   "source": [
    "## **4. Reconstruct the Input**\n",
    "\n",
    "This function performs a full forward pass: image -> encode -> sample -> decode"
   ]
  },
  {
   "cell_type": "code",
   "execution_count": 8,
   "metadata": {},
   "outputs": [
    {
     "name": "stdout",
     "output_type": "stream",
     "text": [
      "\n",
      "Running inference to reconstruct images...\n",
      "Reconstruction complete.\n"
     ]
    }
   ],
   "source": [
    "# --- Define the JIT-compiled reconstruction function ---\n",
    "@jax.jit\n",
    "def reconstruct(model: vae_lib.VAE, batch: jax.Array, sample_key: jax.Array):\n",
    "    \"\"\"Encodes and decodes an image batch using the trained VAE.\"\"\"\n",
    "    # The model now outputs logits\n",
    "    reconstruction_logits_flat, _, _ = model(batch, sample_key=sample_key)\n",
    "\n",
    "    reconstructed_probs_flat = jax.nn.sigmoid(reconstruction_logits_flat)\n",
    "    \n",
    "    # Reshape the flat output back to the original image shape\n",
    "    return reconstructed_probs_flat.reshape(batch.shape)\n",
    "\n",
    "# Get a random key for the reparameterization trick\n",
    "sample_key = rngs.sample()\n",
    "\n",
    "print(\"\\nRunning inference to reconstruct images...\")\n",
    "reconstructed_images = reconstruct(model, image_batch, sample_key)\n",
    "print(\"Reconstruction complete.\")"
   ]
  },
  {
   "cell_type": "markdown",
   "metadata": {},
   "source": [
    "## **5. Show Reconstruction**\n",
    "\n",
    "We'll create a single, JIT-compiled function to perform one step of training. This function computes the loss, calculates gradients, and applies them to update the model's parameters."
   ]
  },
  {
   "cell_type": "code",
   "execution_count": 6,
   "metadata": {},
   "outputs": [
    {
     "name": "stdout",
     "output_type": "stream",
     "text": [
      "Displaying results...\n"
     ]
    },
    {
     "data": {
      "image/png": "[encoded data removed]",
      "text/plain": [
       "<Figure size 1500x350 with 20 Axes>"
      ]
     },
     "metadata": {},
     "output_type": "display_data"
    }
   ],
   "source": [
    "# --- Plot the results ---\n",
    "print(\"Displaying results...\")\n",
    "fig, axes = plt.subplots(2, 10, figsize=(15, 3.5))\n",
    "\n",
    "for i in range(10):\n",
    "    # Plot original images on the first row\n",
    "    axes[0, i].imshow(image_batch[i, ..., 0], cmap='gray')\n",
    "    axes[0, i].set_title(f\"Label: {labels_list[i]}\")\n",
    "    axes[0, i].axis('off')\n",
    "\n",
    "    # Plot reconstructed images on the second row\n",
    "    axes[1, i].imshow(reconstructed_images[i, ..., 0], cmap='gray')\n",
    "    axes[1, i].axis('off')\n",
    "\n",
    "# Add row labels\n",
    "axes[0, 0].set_ylabel(\"Original\", fontsize=12, labelpad=15)\n",
    "axes[1, 0].set_ylabel(\"Reconstructed\", fontsize=12, labelpad=15)\n",
    "\n",
    "\n",
    "plt.suptitle(\"VAE Inference: Original vs. Reconstructed MNIST Digits\", fontsize=16)\n",
    "plt.tight_layout(rect=[0, 0, 1, 0.96])\n",
    "plt.show()"
   ]
  },
  {
   "cell_type": "markdown",
   "metadata": {},
   "source": [
    "## **Conclusion**\n",
    "\n",
    "This notebook demonstrated the complete workflow for the Bonsai VAE model:\n",
    "\n",
    "1.  **Instantiated the VAE model** with a specific configuration.\n",
    "2.  **Loaded and preprocessed** the MNIST dataset.\n",
    "3.  **Defined a loss function** and a JIT-compiled training step.\n",
    "4.  **Trained the model** to reconstruct digits and structure its latent space.\n",
    "5.  **Generated new, plausible handwritten digits** by sampling from the latent space."
   ]
  }
 ],
 "metadata": {
  "kernelspec": {
   "display_name": "bonsai",
   "language": "python",
   "name": "python3"
  },
  "language_info": {
   "codemirror_mode": {
    "name": "ipython",
    "version": 3
   },
   "file_extension": ".py",
   "mimetype": "text/x-python",
   "name": "python",
   "nbconvert_exporter": "python",
   "pygments_lexer": "ipython3",
   "version": "3.11.13"
  }
 },
 "nbformat": 4,
 "nbformat_minor": 4
}
